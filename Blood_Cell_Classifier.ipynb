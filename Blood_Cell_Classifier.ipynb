{
  "cells": [
    {
      "cell_type": "code",
      "execution_count": null,
      "metadata": {
        "id": "5qoJVI0RCyaH"
      },
      "outputs": [],
      "source": [
        "#imports\n",
        "import numpy as np\n",
        "import torch\n",
        "from torch import nn\n",
        "import torch.nn.functional as F\n",
        "from torch.nn.modules import flatten\n",
        "from torch.optim.lr_scheduler import LambdaLR, StepLR, MultiStepLR, ExponentialLR, ReduceLROnPlateau\n",
        "from torch.utils.data import Dataset, DataLoader\n",
        "import torchvision\n",
        "from torchvision import transforms\n",
        "import matplotlib.pyplot as plt\n",
        "from os import listdir\n",
        "from os.path import isfile, join\n",
        "from PIL import Image\n",
        "import random\n",
        "import pandas as pd\n",
        "from google.colab import drive\n",
        "from sklearn.metrics import accuracy_score, classification_report\n",
        "from copy import deepcopy\n",
        "from tqdm import tqdm"
      ]
    },
    {
      "cell_type": "code",
      "source": [
        "#mount google drive\n",
        "drive.mount('/content/drive')"
      ],
      "metadata": {
        "id": "G4Nu2ANcT2ie",
        "colab": {
          "base_uri": "https://localhost:8080/"
        },
        "outputId": "2e03132d-a926-42dc-c4b1-42430e72a5c6"
      },
      "execution_count": null,
      "outputs": [
        {
          "output_type": "stream",
          "name": "stdout",
          "text": [
            "Drive already mounted at /content/drive; to attempt to forcibly remount, call drive.mount(\"/content/drive\", force_remount=True).\n"
          ]
        }
      ]
    },
    {
      "cell_type": "code",
      "source": [
        "#download and unzip data\n",
        "!gdown --id 1Oql7XDlW8IOI0Rkx2q3fn2OZ5W_n4U-2 -O bloodcells_dataset_412a.zip\n",
        "!unzip -q bloodcells_dataset_412a.zip"
      ],
      "metadata": {
        "colab": {
          "base_uri": "https://localhost:8080/"
        },
        "id": "qa1Qj4KSbJwK",
        "outputId": "09230907-220b-48f8-fe61-460164db606d"
      },
      "execution_count": null,
      "outputs": [
        {
          "output_type": "stream",
          "name": "stdout",
          "text": [
            "/usr/local/lib/python3.10/dist-packages/gdown/__main__.py:140: FutureWarning: Option `--id` was deprecated in version 4.3.1 and will be removed in 5.0. You don't need to pass it anymore to use a file ID.\n",
            "  warnings.warn(\n",
            "Downloading...\n",
            "From: https://drive.google.com/uc?id=1Oql7XDlW8IOI0Rkx2q3fn2OZ5W_n4U-2\n",
            "To: /content/bloodcells_dataset_412a.zip\n",
            "100% 8.50M/8.50M [00:00<00:00, 92.5MB/s]\n",
            "replace bloodcells_dataset_412a/basophil/BA_577892.jpg? [y]es, [n]o, [A]ll, [N]one, [r]ename: a\n",
            "error:  invalid response [a]\n",
            "replace bloodcells_dataset_412a/basophil/BA_577892.jpg? [y]es, [n]o, [A]ll, [N]one, [r]ename: A\n"
          ]
        }
      ]
    },
    {
      "cell_type": "code",
      "execution_count": null,
      "metadata": {
        "id": "Zmwd_kzNT-Cq"
      },
      "outputs": [],
      "source": [
        "#load and shuffle data\n",
        "file_path = \"./bloodcells_dataset_412a/\"\n",
        "baso = [f for f in listdir(file_path + \"basophil\") if isfile(join(file_path + \"basophil\", f)) and f != \".DS_Store\"]\n",
        "eosi = [f for f in listdir(file_path + \"eosinophil\") if isfile(join(file_path + \"eosinophil\", f)) and f != \".DS_Store\"]\n",
        "neutro = [f for f in listdir(file_path + \"neutrophil\") if isfile(join(file_path + \"neutrophil\", f)) and f != \".DS_Store\"]\n",
        "data = baso + eosi + neutro\n",
        "random.shuffle(data)"
      ]
    },
    {
      "cell_type": "code",
      "source": [
        "class BloodCell_Dataset(Dataset):\n",
        "    def __init__(self, file_path, file_path_list, mode=\"train\", validate_size=0.2, test_size=0.2):\n",
        "        self.file_path = file_path\n",
        "        self.classes = [\"basophil\", \"eosinophil\", \"neutrophil\"]\n",
        "        self.class2idx = {\"basophil\" : 0, \"eosinophil\" : 1, \"neutrophil\" : 2}\n",
        "        self.idx2class = {0 : \"basophil\", 1 : \"eosinophil\", 2 : \"neutrophil\"}\n",
        "        self.data = file_path_list\n",
        "        assert mode in ['train', 'test', 'validate'], f'mode needs to be either train or test, but it\\'s {mode}'\n",
        "        val_partition = int(len(self.data) * (1 - validate_size - test_size))\n",
        "        test_partition = int(len(self.data) * (1 - test_size))\n",
        "        if mode == 'train':\n",
        "            self.data = self.data[:val_partition]\n",
        "        elif mode == 'validate':\n",
        "            self.data = self.data[val_partition:test_partition]\n",
        "            self.tensor_imgs = []\n",
        "            self.labels = []\n",
        "            for i in range(len(self.data)):\n",
        "                img, label = self.__getitem__(i)\n",
        "                if len(img.shape) == 3:\n",
        "                    img = img.unsqueeze(0)\n",
        "                self.tensor_imgs.append(img)\n",
        "                self.labels.append(label.item())\n",
        "        elif mode == 'test':\n",
        "            self.data = self.data[test_partition:]\n",
        "            self.tensor_imgs = []\n",
        "            self.labels = []\n",
        "            for i in range(len(self.data)):\n",
        "                img, label = self.__getitem__(i)\n",
        "                if len(img.shape) == 3:\n",
        "                    img = img.unsqueeze(0)\n",
        "                self.tensor_imgs.append(img)\n",
        "                self.labels.append(label.item())\n",
        "\n",
        "            self.tensor_imgs = torch.cat(self.tensor_imgs, dim=0).type(torch.float32)\n",
        "            self.labels = torch.tensor(self.labels).type(torch.long)\n",
        "\n",
        "    def __len__(self):\n",
        "        return len(self.data)\n",
        "\n",
        "    def __getitem__(self, i):\n",
        "        file_name = self.data[i]\n",
        "\n",
        "        if \"SNE\" in file_name or \"NEU\" in file_name or \"BNE\" in file_name:\n",
        "            label = 2\n",
        "        elif \"EO\" in file_name:\n",
        "            label = 1\n",
        "        elif \"BA\" in file_name:\n",
        "            label = 0\n",
        "\n",
        "        convert_tensor = transforms.ToTensor()\n",
        "        path = self.file_path + self.idx2class[label] + \"/\" + file_name\n",
        "        img = Image.open(path)\n",
        "        tensor_img = convert_tensor(img)\n",
        "        if tensor_img.shape != (3, 363, 360):\n",
        "            tensor_img = tensor_img[:, 3:366, 3:363]\n",
        "        return tensor_img.type(torch.float32), torch.tensor(label).type(torch.long)\n",
        "\n",
        "    def get_val(self):\n",
        "        return self.tensor_imgs, self.labels\n",
        "\n",
        "    def get_test(self):\n",
        "        return self.tensor_imgs, self.labels"
      ],
      "metadata": {
        "id": "vLA5rnm1kICK"
      },
      "execution_count": null,
      "outputs": []
    },
    {
      "cell_type": "code",
      "source": [
        "training_data = BloodCell_Dataset(file_path, data, mode='train')\n",
        "validation_data = BloodCell_Dataset(file_path, data, mode='validate')\n",
        "testing_data = BloodCell_Dataset(file_path, data, mode='test')"
      ],
      "metadata": {
        "id": "IsUwJy7bkiaU"
      },
      "execution_count": null,
      "outputs": []
    },
    {
      "cell_type": "code",
      "source": [
        "class Blood_Cell_Classifier(nn.Module):\n",
        "    def __init__(self):\n",
        "        super().__init__()\n",
        "\n",
        "        #convolution\n",
        "        self.conv1 = nn.Conv2d(3, 16, kernel_size=3, stride=2, padding=1)\n",
        "        self.conv2 = nn.Conv2d(16, 32, kernel_size=3, stride=2, padding=1)\n",
        "\n",
        "        #batch normalization\n",
        "        self.bn1 = nn.BatchNorm2d(16)\n",
        "        self.bn2 = nn.BatchNorm2d(32)\n",
        "\n",
        "        #pooling\n",
        "        self.pool = nn.MaxPool2d(kernel_size=2, stride=2)\n",
        "        self.global_pool = nn.AdaptiveAvgPool2d((1, 1))\n",
        "\n",
        "        #dropout\n",
        "        self.dropout = nn.Dropout(0.3)\n",
        "\n",
        "        # Fully connected layers\n",
        "        self.fc1 = nn.Linear(32, 128)\n",
        "        self.fc2 = nn.Linear(128, 3)\n",
        "\n",
        "    def forward(self, X):\n",
        "        X = F.relu(self.bn1(self.conv1(X)))\n",
        "        X = self.pool(X)\n",
        "        X = F.relu(self.bn2(self.conv2(X)))\n",
        "        X = self.pool(X)\n",
        "\n",
        "        # Apply adaptive pooling\n",
        "        X = self.global_pool(X).squeeze()\n",
        "\n",
        "        # Fully connected layers\n",
        "        X = self.dropout(F.relu(self.fc1(X)))\n",
        "        logits = self.fc2(X)\n",
        "        return logits"
      ],
      "metadata": {
        "id": "sUo6EnRLnVjU"
      },
      "execution_count": null,
      "outputs": []
    },
    {
      "cell_type": "code",
      "source": [
        "def train(model, training_data, validation_data, epochs=25, batch_size=8, lr=1e-3, gamma=0.9):\n",
        "    \"\"\"\n",
        "    Inputs:\n",
        "    - model: the model to be trained (PyTorch nn.Module class object)\n",
        "    - training_data: the dataset for training\n",
        "    - validation_data: the dataset for validation\n",
        "    - epochs: number of epochs\n",
        "    - batch_size: size of the mini-batches\n",
        "    - lr: learning rate\n",
        "    - gamma: decay factor for the learning rate scheduler\n",
        "\n",
        "    Outputs:\n",
        "    - total_train_losses: list of training losses per epoch\n",
        "    - total_val_losses: list of validation losses per epoch\n",
        "    - total_train_accuracy: list of training accuracies per epoch\n",
        "    - total_val_accuracy: list of validation accuracies per epoch\n",
        "    \"\"\"\n",
        "    torch.cuda.empty_cache()\n",
        "    device = torch.device('cuda' if torch.cuda.is_available() else 'cpu')\n",
        "    model = model.to(device)\n",
        "\n",
        "    optimizer = torch.optim.Adam(model.parameters(), lr=lr)\n",
        "    scheduler = ExponentialLR(optimizer, gamma=gamma)\n",
        "    loss_fn = nn.CrossEntropyLoss()\n",
        "\n",
        "    train_dataloader = DataLoader(training_data, batch_size=batch_size, shuffle=True)\n",
        "    val_dataloader = DataLoader(validation_data, batch_size=batch_size, shuffle=False)\n",
        "\n",
        "    total_train_losses = []\n",
        "    total_val_losses = []\n",
        "    total_train_accuracy = []\n",
        "    total_val_accuracy = []\n",
        "\n",
        "    best_acc = -1\n",
        "    best_model = None\n",
        "\n",
        "    for epoch in range(epochs):\n",
        "        # Training loop\n",
        "        model.train()\n",
        "        epoch_train_loss = 0\n",
        "        num_correct_train = 0\n",
        "        train_size = len(training_data)\n",
        "\n",
        "        print(f\"Epoch {epoch + 1}/{epochs}\")\n",
        "        with tqdm(train_dataloader, desc=\"Training\", unit=\"batch\") as train_progress:\n",
        "            for imgs, labels in train_progress:\n",
        "                imgs, labels = imgs.to(device), labels.to(device)\n",
        "                optimizer.zero_grad()\n",
        "                logits = model(imgs)\n",
        "                loss = loss_fn(logits, labels)\n",
        "                loss.backward()\n",
        "                optimizer.step()\n",
        "\n",
        "                # Update metrics\n",
        "                epoch_train_loss += loss.item() * imgs.size(0)  # Accumulate total loss\n",
        "                preds = logits.argmax(dim=1)\n",
        "                num_correct_train += (preds == labels).sum().item()\n",
        "\n",
        "                # Update progress bar\n",
        "                train_progress.set_postfix(loss=loss.item())\n",
        "\n",
        "        avg_train_loss = epoch_train_loss / train_size\n",
        "        train_accuracy = num_correct_train / train_size\n",
        "        total_train_losses.append(avg_train_loss)\n",
        "        total_train_accuracy.append(train_accuracy)\n",
        "\n",
        "        # Validation loop\n",
        "        model.eval()\n",
        "        epoch_val_loss = 0\n",
        "        num_correct_val = 0\n",
        "        val_size = len(validation_data)\n",
        "\n",
        "        with torch.no_grad():\n",
        "            with tqdm(val_dataloader, desc=\"Validation\", unit=\"batch\") as val_progress:\n",
        "                for imgs, labels in val_progress:\n",
        "                    imgs, labels = imgs.to(device), labels.to(device)\n",
        "                    logits = model(imgs)\n",
        "                    loss = loss_fn(logits, labels)\n",
        "\n",
        "                    # Update metrics\n",
        "                    epoch_val_loss += loss.item() * imgs.size(0)  # Accumulate total loss\n",
        "                    preds = logits.argmax(dim=1)\n",
        "                    num_correct_val += (preds == labels).sum().item()\n",
        "\n",
        "                    # Update progress bar\n",
        "                    val_progress.set_postfix(loss=loss.item())\n",
        "\n",
        "        avg_val_loss = epoch_val_loss / val_size\n",
        "        val_accuracy = num_correct_val / val_size\n",
        "        total_val_losses.append(avg_val_loss)\n",
        "        total_val_accuracy.append(val_accuracy)\n",
        "\n",
        "        # Save best model\n",
        "        if val_accuracy > best_acc:\n",
        "            best_acc = val_accuracy\n",
        "            best_model = deepcopy(model)\n",
        "\n",
        "        # Print epoch summary\n",
        "        print(f\"Train Loss: {avg_train_loss:.4f}\\tTrain Acc: {train_accuracy:.4f}\\tVal Loss: {avg_val_loss:.4f}\\tVal Acc: {val_accuracy:.4f}\")\n",
        "\n",
        "        # Update scheduler\n",
        "        scheduler.step()\n",
        "\n",
        "    print(f\"Resetting model to the best state... Best Validation Accuracy: {best_acc:.4f}\")\n",
        "    model.load_state_dict(best_model.state_dict())\n",
        "\n",
        "    # Graph training and validation losses\n",
        "    losses = {\"Training Loss\": total_train_losses, \"Validation Loss\": total_val_losses}\n",
        "    df = pd.DataFrame(losses, index=range(epochs))\n",
        "    ax = df.plot.line()\n",
        "    ax.set_xlabel(\"Epoch\")\n",
        "    ax.set_ylabel(\"Loss\")\n",
        "    ax.set_title(\"Losses\")\n",
        "\n",
        "    accuracies = {\"Training Accuracy\": total_train_accuracy, \"Validation Accuracy\": total_val_accuracy}\n",
        "    df = pd.DataFrame(accuracies, index=range(epochs))\n",
        "    ax = df.plot.line()\n",
        "    ax.set_xlabel(\"Epoch\")\n",
        "    ax.set_ylabel(\"Accuracy\")\n",
        "    ax.set_title(\"Accuracy\")\n",
        "\n",
        "    return total_train_losses, total_val_losses, total_train_accuracy, total_val_accuracy"
      ],
      "metadata": {
        "id": "RlgH7KrnET_8"
      },
      "execution_count": null,
      "outputs": []
    },
    {
      "cell_type": "code",
      "source": [
        "model = Blood_Cell_Classifier()\n",
        "total_train_losses, total_val_losses, total_train_accuracy, total_val_accuracy = train(\n",
        "    model, training_data, validation_data, epochs=40, batch_size=16, lr=1e-2, gamma=0.9)"
      ],
      "metadata": {
        "id": "xoObLROSBhOi",
        "colab": {
          "base_uri": "https://localhost:8080/",
          "height": 1000
        },
        "outputId": "aef2e776-59ff-4c00-9259-0af82f74fbbe"
      },
      "execution_count": null,
      "outputs": [
        {
          "output_type": "stream",
          "name": "stdout",
          "text": [
            "Epoch 1/40\n"
          ]
        },
        {
          "output_type": "stream",
          "name": "stderr",
          "text": [
            "Training: 100%|██████████| 19/19 [00:05<00:00,  3.19batch/s, loss=1.12]\n",
            "Validation: 100%|██████████| 7/7 [00:01<00:00,  5.26batch/s, loss=1.12]\n"
          ]
        },
        {
          "output_type": "stream",
          "name": "stdout",
          "text": [
            "Train Loss: 1.0887\tTrain Acc: 0.4110\tVal Loss: 1.1494\tVal Acc: 0.3980\n",
            "Epoch 2/40\n"
          ]
        },
        {
          "output_type": "stream",
          "name": "stderr",
          "text": [
            "Training: 100%|██████████| 19/19 [00:06<00:00,  3.02batch/s, loss=0.997]\n",
            "Validation: 100%|██████████| 7/7 [00:01<00:00,  6.52batch/s, loss=1.14]\n"
          ]
        },
        {
          "output_type": "stream",
          "name": "stdout",
          "text": [
            "Train Loss: 1.0271\tTrain Acc: 0.4315\tVal Loss: 1.0664\tVal Acc: 0.4592\n",
            "Epoch 3/40\n"
          ]
        },
        {
          "output_type": "stream",
          "name": "stderr",
          "text": [
            "Training: 100%|██████████| 19/19 [00:05<00:00,  3.52batch/s, loss=0.837]\n",
            "Validation: 100%|██████████| 7/7 [00:01<00:00,  4.97batch/s, loss=1.15]\n"
          ]
        },
        {
          "output_type": "stream",
          "name": "stdout",
          "text": [
            "Train Loss: 0.9818\tTrain Acc: 0.4897\tVal Loss: 1.0728\tVal Acc: 0.2449\n",
            "Epoch 4/40\n"
          ]
        },
        {
          "output_type": "stream",
          "name": "stderr",
          "text": [
            "Training: 100%|██████████| 19/19 [00:06<00:00,  2.94batch/s, loss=0.853]\n",
            "Validation: 100%|██████████| 7/7 [00:01<00:00,  6.66batch/s, loss=3.07]\n"
          ]
        },
        {
          "output_type": "stream",
          "name": "stdout",
          "text": [
            "Train Loss: 0.9148\tTrain Acc: 0.5925\tVal Loss: 2.6057\tVal Acc: 0.2347\n",
            "Epoch 5/40\n"
          ]
        },
        {
          "output_type": "stream",
          "name": "stderr",
          "text": [
            "Training: 100%|██████████| 19/19 [00:05<00:00,  3.55batch/s, loss=0.903]\n",
            "Validation: 100%|██████████| 7/7 [00:01<00:00,  6.62batch/s, loss=10.6]\n"
          ]
        },
        {
          "output_type": "stream",
          "name": "stdout",
          "text": [
            "Train Loss: 0.8345\tTrain Acc: 0.6336\tVal Loss: 11.0481\tVal Acc: 0.3673\n",
            "Epoch 6/40\n"
          ]
        },
        {
          "output_type": "stream",
          "name": "stderr",
          "text": [
            "Training: 100%|██████████| 19/19 [00:08<00:00,  2.23batch/s, loss=0.663]\n",
            "Validation: 100%|██████████| 7/7 [00:01<00:00,  6.39batch/s, loss=5.44]\n"
          ]
        },
        {
          "output_type": "stream",
          "name": "stdout",
          "text": [
            "Train Loss: 0.6887\tTrain Acc: 0.7568\tVal Loss: 5.8246\tVal Acc: 0.3673\n",
            "Epoch 7/40\n"
          ]
        },
        {
          "output_type": "stream",
          "name": "stderr",
          "text": [
            "Training: 100%|██████████| 19/19 [00:05<00:00,  3.22batch/s, loss=0.277]\n",
            "Validation: 100%|██████████| 7/7 [00:01<00:00,  6.71batch/s, loss=5.35]\n"
          ]
        },
        {
          "output_type": "stream",
          "name": "stdout",
          "text": [
            "Train Loss: 0.6152\tTrain Acc: 0.7774\tVal Loss: 4.5574\tVal Acc: 0.2857\n",
            "Epoch 8/40\n"
          ]
        },
        {
          "output_type": "stream",
          "name": "stderr",
          "text": [
            "Training: 100%|██████████| 19/19 [00:06<00:00,  2.79batch/s, loss=0.821]\n",
            "Validation: 100%|██████████| 7/7 [00:01<00:00,  6.33batch/s, loss=2.34]\n"
          ]
        },
        {
          "output_type": "stream",
          "name": "stdout",
          "text": [
            "Train Loss: 0.6011\tTrain Acc: 0.7637\tVal Loss: 2.9381\tVal Acc: 0.4490\n",
            "Epoch 9/40\n"
          ]
        },
        {
          "output_type": "stream",
          "name": "stderr",
          "text": [
            "Training: 100%|██████████| 19/19 [00:07<00:00,  2.55batch/s, loss=0.84]\n",
            "Validation: 100%|██████████| 7/7 [00:01<00:00,  3.89batch/s, loss=2.78]\n"
          ]
        },
        {
          "output_type": "stream",
          "name": "stdout",
          "text": [
            "Train Loss: 0.4996\tTrain Acc: 0.8151\tVal Loss: 1.9211\tVal Acc: 0.3571\n",
            "Epoch 10/40\n"
          ]
        },
        {
          "output_type": "stream",
          "name": "stderr",
          "text": [
            "Training: 100%|██████████| 19/19 [00:06<00:00,  2.96batch/s, loss=0.672]\n",
            "Validation: 100%|██████████| 7/7 [00:01<00:00,  6.80batch/s, loss=0.293]\n"
          ]
        },
        {
          "output_type": "stream",
          "name": "stdout",
          "text": [
            "Train Loss: 0.4079\tTrain Acc: 0.8699\tVal Loss: 0.3558\tVal Acc: 0.8980\n",
            "Epoch 11/40\n"
          ]
        },
        {
          "output_type": "stream",
          "name": "stderr",
          "text": [
            "Training: 100%|██████████| 19/19 [00:05<00:00,  3.53batch/s, loss=0.452]\n",
            "Validation: 100%|██████████| 7/7 [00:01<00:00,  6.88batch/s, loss=0.358]\n"
          ]
        },
        {
          "output_type": "stream",
          "name": "stdout",
          "text": [
            "Train Loss: 0.4139\tTrain Acc: 0.8801\tVal Loss: 0.3857\tVal Acc: 0.9286\n",
            "Epoch 12/40\n"
          ]
        },
        {
          "output_type": "stream",
          "name": "stderr",
          "text": [
            "Training: 100%|██████████| 19/19 [00:08<00:00,  2.18batch/s, loss=0.154]\n",
            "Validation: 100%|██████████| 7/7 [00:02<00:00,  3.47batch/s, loss=0.791]\n"
          ]
        },
        {
          "output_type": "stream",
          "name": "stdout",
          "text": [
            "Train Loss: 0.3242\tTrain Acc: 0.9007\tVal Loss: 0.5612\tVal Acc: 0.7245\n",
            "Epoch 13/40\n"
          ]
        },
        {
          "output_type": "stream",
          "name": "stderr",
          "text": [
            "Training: 100%|██████████| 19/19 [00:06<00:00,  3.07batch/s, loss=0.386]\n",
            "Validation: 100%|██████████| 7/7 [00:01<00:00,  5.44batch/s, loss=0.182]\n"
          ]
        },
        {
          "output_type": "stream",
          "name": "stdout",
          "text": [
            "Train Loss: 0.3216\tTrain Acc: 0.8973\tVal Loss: 0.2719\tVal Acc: 0.9286\n",
            "Epoch 14/40\n"
          ]
        },
        {
          "output_type": "stream",
          "name": "stderr",
          "text": [
            "Training: 100%|██████████| 19/19 [00:06<00:00,  2.99batch/s, loss=0.696]\n",
            "Validation: 100%|██████████| 7/7 [00:01<00:00,  5.13batch/s, loss=1.92]\n"
          ]
        },
        {
          "output_type": "stream",
          "name": "stdout",
          "text": [
            "Train Loss: 0.2957\tTrain Acc: 0.9041\tVal Loss: 1.3382\tVal Acc: 0.3980\n",
            "Epoch 15/40\n"
          ]
        },
        {
          "output_type": "stream",
          "name": "stderr",
          "text": [
            "Training: 100%|██████████| 19/19 [00:06<00:00,  2.72batch/s, loss=0.827]\n",
            "Validation: 100%|██████████| 7/7 [00:01<00:00,  4.99batch/s, loss=0.271]\n"
          ]
        },
        {
          "output_type": "stream",
          "name": "stdout",
          "text": [
            "Train Loss: 0.2738\tTrain Acc: 0.9384\tVal Loss: 0.2553\tVal Acc: 0.9082\n",
            "Epoch 16/40\n"
          ]
        },
        {
          "output_type": "stream",
          "name": "stderr",
          "text": [
            "Training: 100%|██████████| 19/19 [00:06<00:00,  2.88batch/s, loss=0.32]\n",
            "Validation: 100%|██████████| 7/7 [00:01<00:00,  4.14batch/s, loss=0.307]\n"
          ]
        },
        {
          "output_type": "stream",
          "name": "stdout",
          "text": [
            "Train Loss: 0.2750\tTrain Acc: 0.9075\tVal Loss: 0.2680\tVal Acc: 0.9184\n",
            "Epoch 17/40\n"
          ]
        },
        {
          "output_type": "stream",
          "name": "stderr",
          "text": [
            "Training: 100%|██████████| 19/19 [00:09<00:00,  1.95batch/s, loss=0.201]\n",
            "Validation: 100%|██████████| 7/7 [00:02<00:00,  3.47batch/s, loss=0.081]\n"
          ]
        },
        {
          "output_type": "stream",
          "name": "stdout",
          "text": [
            "Train Loss: 0.2920\tTrain Acc: 0.9144\tVal Loss: 0.3105\tVal Acc: 0.8673\n",
            "Epoch 18/40\n"
          ]
        },
        {
          "output_type": "stream",
          "name": "stderr",
          "text": [
            "Training: 100%|██████████| 19/19 [00:07<00:00,  2.70batch/s, loss=0.0879]\n",
            "Validation: 100%|██████████| 7/7 [00:01<00:00,  4.95batch/s, loss=0.489]\n"
          ]
        },
        {
          "output_type": "stream",
          "name": "stdout",
          "text": [
            "Train Loss: 0.2525\tTrain Acc: 0.9349\tVal Loss: 0.4459\tVal Acc: 0.8265\n",
            "Epoch 19/40\n"
          ]
        },
        {
          "output_type": "stream",
          "name": "stderr",
          "text": [
            "Training: 100%|██████████| 19/19 [00:08<00:00,  2.18batch/s, loss=0.212]\n",
            "Validation: 100%|██████████| 7/7 [00:01<00:00,  5.00batch/s, loss=0.121]\n"
          ]
        },
        {
          "output_type": "stream",
          "name": "stdout",
          "text": [
            "Train Loss: 0.2137\tTrain Acc: 0.9384\tVal Loss: 0.2254\tVal Acc: 0.9184\n",
            "Epoch 20/40\n"
          ]
        },
        {
          "output_type": "stream",
          "name": "stderr",
          "text": [
            "Training: 100%|██████████| 19/19 [00:06<00:00,  2.90batch/s, loss=0.258]\n",
            "Validation: 100%|██████████| 7/7 [00:01<00:00,  4.75batch/s, loss=0.179]\n"
          ]
        },
        {
          "output_type": "stream",
          "name": "stdout",
          "text": [
            "Train Loss: 0.1924\tTrain Acc: 0.9521\tVal Loss: 0.2011\tVal Acc: 0.9490\n",
            "Epoch 21/40\n"
          ]
        },
        {
          "output_type": "stream",
          "name": "stderr",
          "text": [
            "Training: 100%|██████████| 19/19 [00:07<00:00,  2.59batch/s, loss=1.3]\n",
            "Validation: 100%|██████████| 7/7 [00:01<00:00,  6.88batch/s, loss=0.122]\n"
          ]
        },
        {
          "output_type": "stream",
          "name": "stdout",
          "text": [
            "Train Loss: 0.1885\tTrain Acc: 0.9418\tVal Loss: 0.1992\tVal Acc: 0.9388\n",
            "Epoch 22/40\n"
          ]
        },
        {
          "output_type": "stream",
          "name": "stderr",
          "text": [
            "Training: 100%|██████████| 19/19 [00:05<00:00,  3.38batch/s, loss=0.142]\n",
            "Validation: 100%|██████████| 7/7 [00:01<00:00,  5.59batch/s, loss=0.196]\n"
          ]
        },
        {
          "output_type": "stream",
          "name": "stdout",
          "text": [
            "Train Loss: 0.2222\tTrain Acc: 0.9247\tVal Loss: 0.2067\tVal Acc: 0.9286\n",
            "Epoch 23/40\n"
          ]
        },
        {
          "output_type": "stream",
          "name": "stderr",
          "text": [
            "Training: 100%|██████████| 19/19 [00:08<00:00,  2.23batch/s, loss=0.933]\n",
            "Validation: 100%|██████████| 7/7 [00:01<00:00,  4.99batch/s, loss=0.0317]\n"
          ]
        },
        {
          "output_type": "stream",
          "name": "stdout",
          "text": [
            "Train Loss: 0.2158\tTrain Acc: 0.9349\tVal Loss: 0.2835\tVal Acc: 0.8878\n",
            "Epoch 24/40\n"
          ]
        },
        {
          "output_type": "stream",
          "name": "stderr",
          "text": [
            "Training: 100%|██████████| 19/19 [00:05<00:00,  3.47batch/s, loss=0.44]\n",
            "Validation: 100%|██████████| 7/7 [00:01<00:00,  6.78batch/s, loss=0.17]\n"
          ]
        },
        {
          "output_type": "stream",
          "name": "stdout",
          "text": [
            "Train Loss: 0.1956\tTrain Acc: 0.9589\tVal Loss: 0.2053\tVal Acc: 0.9592\n",
            "Epoch 25/40\n"
          ]
        },
        {
          "output_type": "stream",
          "name": "stderr",
          "text": [
            "Training: 100%|██████████| 19/19 [00:07<00:00,  2.60batch/s, loss=0.763]\n",
            "Validation: 100%|██████████| 7/7 [00:01<00:00,  6.83batch/s, loss=0.0801]\n"
          ]
        },
        {
          "output_type": "stream",
          "name": "stdout",
          "text": [
            "Train Loss: 0.1894\tTrain Acc: 0.9589\tVal Loss: 0.1893\tVal Acc: 0.9592\n",
            "Epoch 26/40\n"
          ]
        },
        {
          "output_type": "stream",
          "name": "stderr",
          "text": [
            "Training: 100%|██████████| 19/19 [00:05<00:00,  3.57batch/s, loss=0.125]\n",
            "Validation: 100%|██████████| 7/7 [00:01<00:00,  6.95batch/s, loss=0.126]\n"
          ]
        },
        {
          "output_type": "stream",
          "name": "stdout",
          "text": [
            "Train Loss: 0.1820\tTrain Acc: 0.9486\tVal Loss: 0.1781\tVal Acc: 0.9592\n",
            "Epoch 27/40\n"
          ]
        },
        {
          "output_type": "stream",
          "name": "stderr",
          "text": [
            "Training: 100%|██████████| 19/19 [00:06<00:00,  3.07batch/s, loss=0.235]\n",
            "Validation: 100%|██████████| 7/7 [00:01<00:00,  5.12batch/s, loss=0.124]\n"
          ]
        },
        {
          "output_type": "stream",
          "name": "stdout",
          "text": [
            "Train Loss: 0.1733\tTrain Acc: 0.9589\tVal Loss: 0.1703\tVal Acc: 0.9592\n",
            "Epoch 28/40\n"
          ]
        },
        {
          "output_type": "stream",
          "name": "stderr",
          "text": [
            "Training: 100%|██████████| 19/19 [00:05<00:00,  3.65batch/s, loss=1.49]\n",
            "Validation: 100%|██████████| 7/7 [00:01<00:00,  6.76batch/s, loss=0.0571]\n"
          ]
        },
        {
          "output_type": "stream",
          "name": "stdout",
          "text": [
            "Train Loss: 0.2158\tTrain Acc: 0.9075\tVal Loss: 0.1807\tVal Acc: 0.9286\n",
            "Epoch 29/40\n"
          ]
        },
        {
          "output_type": "stream",
          "name": "stderr",
          "text": [
            "Training: 100%|██████████| 19/19 [00:05<00:00,  3.35batch/s, loss=0.167]\n",
            "Validation: 100%|██████████| 7/7 [00:01<00:00,  5.01batch/s, loss=0.204]\n"
          ]
        },
        {
          "output_type": "stream",
          "name": "stdout",
          "text": [
            "Train Loss: 0.1777\tTrain Acc: 0.9452\tVal Loss: 0.1820\tVal Acc: 0.9490\n",
            "Epoch 30/40\n"
          ]
        },
        {
          "output_type": "stream",
          "name": "stderr",
          "text": [
            "Training: 100%|██████████| 19/19 [00:05<00:00,  3.30batch/s, loss=1.19]\n",
            "Validation: 100%|██████████| 7/7 [00:00<00:00,  7.03batch/s, loss=0.263]\n"
          ]
        },
        {
          "output_type": "stream",
          "name": "stdout",
          "text": [
            "Train Loss: 0.1959\tTrain Acc: 0.9589\tVal Loss: 0.2026\tVal Acc: 0.9490\n",
            "Epoch 31/40\n"
          ]
        },
        {
          "output_type": "stream",
          "name": "stderr",
          "text": [
            "Training: 100%|██████████| 19/19 [00:05<00:00,  3.64batch/s, loss=1.57]\n",
            "Validation: 100%|██████████| 7/7 [00:01<00:00,  5.33batch/s, loss=0.0683]\n"
          ]
        },
        {
          "output_type": "stream",
          "name": "stdout",
          "text": [
            "Train Loss: 0.1680\tTrain Acc: 0.9692\tVal Loss: 0.1585\tVal Acc: 0.9694\n",
            "Epoch 32/40\n"
          ]
        },
        {
          "output_type": "stream",
          "name": "stderr",
          "text": [
            "Training: 100%|██████████| 19/19 [00:08<00:00,  2.33batch/s, loss=0.473]\n",
            "Validation: 100%|██████████| 7/7 [00:00<00:00,  7.08batch/s, loss=0.105]\n"
          ]
        },
        {
          "output_type": "stream",
          "name": "stdout",
          "text": [
            "Train Loss: 0.1932\tTrain Acc: 0.9384\tVal Loss: 0.1536\tVal Acc: 0.9592\n",
            "Epoch 33/40\n"
          ]
        },
        {
          "output_type": "stream",
          "name": "stderr",
          "text": [
            "Training: 100%|██████████| 19/19 [00:05<00:00,  3.58batch/s, loss=0.712]\n",
            "Validation: 100%|██████████| 7/7 [00:01<00:00,  5.22batch/s, loss=0.0865]\n"
          ]
        },
        {
          "output_type": "stream",
          "name": "stdout",
          "text": [
            "Train Loss: 0.1607\tTrain Acc: 0.9658\tVal Loss: 0.1698\tVal Acc: 0.9796\n",
            "Epoch 34/40\n"
          ]
        },
        {
          "output_type": "stream",
          "name": "stderr",
          "text": [
            "Training: 100%|██████████| 19/19 [00:07<00:00,  2.56batch/s, loss=0.139]\n",
            "Validation: 100%|██████████| 7/7 [00:01<00:00,  4.98batch/s, loss=0.0945]\n"
          ]
        },
        {
          "output_type": "stream",
          "name": "stdout",
          "text": [
            "Train Loss: 0.1904\tTrain Acc: 0.9349\tVal Loss: 0.1577\tVal Acc: 0.9796\n",
            "Epoch 35/40\n"
          ]
        },
        {
          "output_type": "stream",
          "name": "stderr",
          "text": [
            "Training: 100%|██████████| 19/19 [00:05<00:00,  3.52batch/s, loss=0.0726]\n",
            "Validation: 100%|██████████| 7/7 [00:01<00:00,  6.93batch/s, loss=0.0924]\n"
          ]
        },
        {
          "output_type": "stream",
          "name": "stdout",
          "text": [
            "Train Loss: 0.1973\tTrain Acc: 0.9555\tVal Loss: 0.1608\tVal Acc: 0.9694\n",
            "Epoch 36/40\n"
          ]
        },
        {
          "output_type": "stream",
          "name": "stderr",
          "text": [
            "Training: 100%|██████████| 19/19 [00:05<00:00,  3.49batch/s, loss=0.514]\n",
            "Validation: 100%|██████████| 7/7 [00:01<00:00,  5.20batch/s, loss=0.075]\n"
          ]
        },
        {
          "output_type": "stream",
          "name": "stdout",
          "text": [
            "Train Loss: 0.1611\tTrain Acc: 0.9486\tVal Loss: 0.1503\tVal Acc: 0.9694\n",
            "Epoch 37/40\n"
          ]
        },
        {
          "output_type": "stream",
          "name": "stderr",
          "text": [
            "Training: 100%|██████████| 19/19 [00:05<00:00,  3.24batch/s, loss=0.601]\n",
            "Validation: 100%|██████████| 7/7 [00:00<00:00,  7.05batch/s, loss=0.0613]\n"
          ]
        },
        {
          "output_type": "stream",
          "name": "stdout",
          "text": [
            "Train Loss: 0.1953\tTrain Acc: 0.9384\tVal Loss: 0.1625\tVal Acc: 0.9592\n",
            "Epoch 38/40\n"
          ]
        },
        {
          "output_type": "stream",
          "name": "stderr",
          "text": [
            "Training: 100%|██████████| 19/19 [00:05<00:00,  3.67batch/s, loss=0.21]\n",
            "Validation: 100%|██████████| 7/7 [00:01<00:00,  6.44batch/s, loss=0.0965]\n"
          ]
        },
        {
          "output_type": "stream",
          "name": "stdout",
          "text": [
            "Train Loss: 0.1592\tTrain Acc: 0.9589\tVal Loss: 0.1553\tVal Acc: 0.9694\n",
            "Epoch 39/40\n"
          ]
        },
        {
          "output_type": "stream",
          "name": "stderr",
          "text": [
            "Training: 100%|██████████| 19/19 [00:06<00:00,  2.92batch/s, loss=0.46]\n",
            "Validation: 100%|██████████| 7/7 [00:00<00:00,  7.04batch/s, loss=0.069]\n"
          ]
        },
        {
          "output_type": "stream",
          "name": "stdout",
          "text": [
            "Train Loss: 0.1629\tTrain Acc: 0.9555\tVal Loss: 0.1520\tVal Acc: 0.9694\n",
            "Epoch 40/40\n"
          ]
        },
        {
          "output_type": "stream",
          "name": "stderr",
          "text": [
            "Training: 100%|██████████| 19/19 [00:05<00:00,  3.39batch/s, loss=0.37]\n",
            "Validation: 100%|██████████| 7/7 [00:00<00:00,  7.07batch/s, loss=0.0695]\n"
          ]
        },
        {
          "output_type": "stream",
          "name": "stdout",
          "text": [
            "Train Loss: 0.1887\tTrain Acc: 0.9452\tVal Loss: 0.1474\tVal Acc: 0.9694\n",
            "Resetting model to the best state... Best Validation Accuracy: 0.9796\n"
          ]
        },
        {
          "output_type": "display_data",
          "data": {
            "text/plain": [
              "<Figure size 640x480 with 1 Axes>"
            ],
            "image/png": "[encoded data removed]"
          },
          "metadata": {}
        },
        {
          "output_type": "display_data",
          "data": {
            "text/plain": [
              "<Figure size 640x480 with 1 Axes>"
            ],
            "image/png": "[encoded data removed]"
          },
          "metadata": {}
        }
      ]
    },
    {
      "cell_type": "code",
      "source": [
        "def evaluate_test_data(model, test_dataset, batch_size=16):\n",
        "    \"\"\"\n",
        "    Evaluate the test dataset using the trained model.\n",
        "\n",
        "    Args:\n",
        "        model: Trained Blood_Cell_Classifier model.\n",
        "        test_dataset: BloodCell_Dataset in 'test' mode.\n",
        "        batch_size: Batch size for the test DataLoader.\n",
        "\n",
        "    Returns:\n",
        "        None. Prints the test loss, accuracy, and classification report.\n",
        "    \"\"\"\n",
        "    device = torch.device('cuda' if torch.cuda.is_available() else 'cpu')\n",
        "    model = model.to(device)\n",
        "    model.eval()\n",
        "\n",
        "    # Get test data\n",
        "    test_dataloader = DataLoader(\n",
        "        dataset=test_dataset,\n",
        "        batch_size=batch_size,\n",
        "        shuffle=False\n",
        "    )\n",
        "    test_imgs, test_labels = test_dataset.get_test()\n",
        "    test_labels = test_labels.to(device)\n",
        "\n",
        "    # Initialize loss and predictions\n",
        "    loss_fn = nn.CrossEntropyLoss()\n",
        "    total_loss = 0.0\n",
        "    all_predictions = []\n",
        "    ground_truths = []\n",
        "\n",
        "    with torch.no_grad():\n",
        "        for imgs, labels in test_dataloader:\n",
        "            imgs, labels = imgs.to(device), labels.to(device)\n",
        "\n",
        "            # Forward pass\n",
        "            logits = model(imgs)\n",
        "            loss = loss_fn(logits, labels)\n",
        "            total_loss += loss.item() * imgs.size(0)  # Accumulate loss\n",
        "\n",
        "            # Predictions\n",
        "            predictions = logits.argmax(dim=1)\n",
        "            all_predictions.extend(predictions.cpu().tolist())\n",
        "            ground_truths.extend(labels.cpu().tolist())\n",
        "\n",
        "    # Calculate overall metrics\n",
        "    avg_loss = total_loss / len(test_dataset)\n",
        "    accuracy = accuracy_score(ground_truths, all_predictions)\n",
        "\n",
        "    # Print results\n",
        "    print(f\"Test Loss: {avg_loss:.4f}\")\n",
        "    print(f\"Test Accuracy: {accuracy:.4f}\")\n",
        "    print(\"\\nClassification Report:\")\n",
        "    print(classification_report(\n",
        "        ground_truths,\n",
        "        all_predictions,\n",
        "        target_names=test_dataset.classes\n",
        "    ))\n"
      ],
      "metadata": {
        "id": "LaWFYrFUbVrL"
      },
      "execution_count": null,
      "outputs": []
    },
    {
      "cell_type": "code",
      "source": [
        "evaluate_test_data(model, testing_data)"
      ],
      "metadata": {
        "colab": {
          "base_uri": "https://localhost:8080/"
        },
        "id": "0oadR8MEbeud",
        "outputId": "bdf372d5-a4ea-46bd-e532-da4169f76639"
      },
      "execution_count": null,
      "outputs": [
        {
          "output_type": "stream",
          "name": "stdout",
          "text": [
            "Test Loss: 0.1637\n",
            "Test Accuracy: 0.9592\n",
            "\n",
            "Classification Report:\n",
            "              precision    recall  f1-score   support\n",
            "\n",
            "    basophil       0.95      0.90      0.92        20\n",
            "  eosinophil       1.00      0.97      0.98        31\n",
            "  neutrophil       0.94      0.98      0.96        47\n",
            "\n",
            "    accuracy                           0.96        98\n",
            "   macro avg       0.96      0.95      0.96        98\n",
            "weighted avg       0.96      0.96      0.96        98\n",
            "\n"
          ]
        }
      ]
    },
    {
      "cell_type": "code",
      "source": [
        "torch.save(model, \"model1.pt\")"
      ],
      "metadata": {
        "id": "BqQO6faEoRb9"
      },
      "execution_count": null,
      "outputs": []
    }
  ],
  "metadata": {
    "colab": {
      "provenance": [],
      "toc_visible": true
    },
    "kernelspec": {
      "display_name": "Python 3",
      "name": "python3"
    }
  },
  "nbformat": 4,
  "nbformat_minor": 0
}